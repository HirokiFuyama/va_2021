{
 "cells": [
  {
   "cell_type": "code",
   "execution_count": 1,
   "metadata": {},
   "outputs": [],
   "source": [
    "import glob\n",
    "import pandas as pd\n",
    "import numpy as np\n",
    "from PIL import Image\n",
    "import matplotlib.pyplot as plt"
   ]
  },
  {
   "cell_type": "code",
   "execution_count": 197,
   "metadata": {},
   "outputs": [],
   "source": [
    "path = '/Users/hiroki/github/va_2021/figure/gnerated/va2020/*.png'\n",
    "path_list = glob.glob(path)"
   ]
  },
  {
   "cell_type": "code",
   "execution_count": 198,
   "metadata": {},
   "outputs": [
    {
     "data": {
      "text/plain": [
       "['/Users/hiroki/github/va_2021/figure/gnerated/va2020/fake1.png',\n",
       " '/Users/hiroki/github/va_2021/figure/gnerated/va2020/baseline.png',\n",
       " '/Users/hiroki/github/va_2021/figure/gnerated/va2020/fake2.png',\n",
       " '/Users/hiroki/github/va_2021/figure/gnerated/va2020/baseline2.png',\n",
       " '/Users/hiroki/github/va_2021/figure/gnerated/va2020/ture_nois_weak.png',\n",
       " '/Users/hiroki/github/va_2021/figure/gnerated/va2020/ture_nois_strong.png',\n",
       " '/Users/hiroki/github/va_2021/figure/gnerated/va2020/fake_nois_strong.png',\n",
       " '/Users/hiroki/github/va_2021/figure/gnerated/va2020/ture1.png',\n",
       " '/Users/hiroki/github/va_2021/figure/gnerated/va2020/ture2.png',\n",
       " '/Users/hiroki/github/va_2021/figure/gnerated/va2020/fake_nois_weak.png']"
      ]
     },
     "execution_count": 198,
     "metadata": {},
     "output_type": "execute_result"
    }
   ],
   "source": [
    "path_list"
   ]
  },
  {
   "cell_type": "code",
   "execution_count": 199,
   "metadata": {},
   "outputs": [],
   "source": [
    "images = np.array([np.array(Image.open(i).convert('L')) for i in path_list])"
   ]
  },
  {
   "cell_type": "code",
   "execution_count": 2,
   "metadata": {},
   "outputs": [],
   "source": [
    "# plt.imshow(images[6]-images[5])"
   ]
  },
  {
   "cell_type": "code",
   "execution_count": 1,
   "metadata": {},
   "outputs": [],
   "source": [
    "# plt.imshow(images[4]-images[3])"
   ]
  },
  {
   "cell_type": "markdown",
   "metadata": {},
   "source": [
    "# Mk base line"
   ]
  },
  {
   "cell_type": "code",
   "execution_count": 39,
   "metadata": {},
   "outputs": [],
   "source": [
    "path = rf'C:\\Users\\HirokiFuruyama\\analysis/va_2021/figure/spectrogram_png/train/*.png'\n",
    "path_list = glob.glob(path)"
   ]
  },
  {
   "cell_type": "code",
   "execution_count": 40,
   "metadata": {},
   "outputs": [],
   "source": [
    "images = np.array([np.array(Image.open(i).convert('L')) for i in path_list])"
   ]
  },
  {
   "cell_type": "code",
   "execution_count": 41,
   "metadata": {},
   "outputs": [],
   "source": [
    "images = images.astype('float64')"
   ]
  },
  {
   "cell_type": "code",
   "execution_count": 43,
   "metadata": {},
   "outputs": [],
   "source": [
    "for i in range(1, len(images)-1, 1):\n",
    "    if i == 1:\n",
    "        a = images[0]+images[i]\n",
    "        if a.min() <0 :\n",
    "            print(i)\n",
    "    else:\n",
    "        b = a+images[i]\n",
    "        a = b"
   ]
  },
  {
   "cell_type": "code",
   "execution_count": 44,
   "metadata": {},
   "outputs": [
    {
     "data": {
      "text/plain": [
       "<matplotlib.image.AxesImage at 0x1fe3854c340>"
      ]
     },
     "execution_count": 44,
     "metadata": {},
     "output_type": "execute_result"
    },
    {
     "data": {
      "image/png": "[encoded data removed]",
      "text/plain": [
       "<Figure size 432x288 with 1 Axes>"
      ]
     },
     "metadata": {
      "needs_background": "light"
     },
     "output_type": "display_data"
    }
   ],
   "source": [
    "plt.imshow(a/len(images))"
   ]
  },
  {
   "cell_type": "code",
   "execution_count": 6,
   "metadata": {},
   "outputs": [],
   "source": [
    "# save base line\n",
    "# Image.fromarray(a.astype(np.uint8)).save('/Users/hiroki/github/va_2021/figure/gnerated/va2020/baseline.png')\n",
    "# 枠あり\n",
    "# fig = plt.figure()\n",
    "# plt.imshow(a)\n",
    "# fig.savefig(\"/Users/hiroki/github/va_2021/figure/gnerated/va2020/baseline2.png\")"
   ]
  },
  {
   "cell_type": "markdown",
   "metadata": {},
   "source": [
    "### 正規化用の平均と分散"
   ]
  },
  {
   "cell_type": "code",
   "execution_count": 53,
   "metadata": {},
   "outputs": [
    {
     "name": "stdout",
     "output_type": "stream",
     "text": [
      "mean: 0.40960972112767835\n",
      "std: 0.2482958236283101\n"
     ]
    }
   ],
   "source": [
    "print('mean:', np.mean(a/len(images)/255))\n",
    "print('std:', np.std(a/len(images)/255))"
   ]
  },
  {
   "cell_type": "code",
   "execution_count": null,
   "metadata": {},
   "outputs": [],
   "source": []
  }
 ],
 "metadata": {
  "kernelspec": {
   "display_name": "Python 3",
   "language": "python",
   "name": "python3"
  },
  "language_info": {
   "codemirror_mode": {
    "name": "ipython",
    "version": 3
   },
   "file_extension": ".py",
   "mimetype": "text/x-python",
   "name": "python",
   "nbconvert_exporter": "python",
   "pygments_lexer": "ipython3",
   "version": "3.8.5"
  }
 },
 "nbformat": 4,
 "nbformat_minor": 4
}
